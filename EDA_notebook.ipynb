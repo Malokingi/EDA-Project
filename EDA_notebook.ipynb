{
 "cells": [
  {
   "cell_type": "code",
   "execution_count": 1,
   "id": "fbf1adab",
   "metadata": {},
   "outputs": [],
   "source": [
    "import pandas as pd\n",
    "\n",
    "\n",
    "# Load 5 datasets\n",
    "a_df = pd.read_csv('./data/aisles.csv', sep=';')\n",
    "d_df = pd.read_csv('./data/departments.csv', sep=';')\n",
    "i_df = pd.read_csv('./data/instacart_orders.csv', sep=';')\n",
    "o_df = pd.read_csv('./data/order_products.csv', sep=';')\n",
    "p_df = pd.read_csv('./data/products.csv', sep=';')\n",
    "\n",
    "dfs = [\n",
    "    a_df, # 'a' for 'aisles'\n",
    "    d_df, # 'd' for 'departments'\n",
    "    i_df, # 'i' for 'instacart_orders'\n",
    "    o_df, # 'o' for 'order_products'\n",
    "    p_df  # 'p' for 'products'\n",
    "]\n"
   ]
  },
  {
   "cell_type": "code",
   "execution_count": 2,
   "id": "ad36396d",
   "metadata": {},
   "outputs": [
    {
     "name": "stdout",
     "output_type": "stream",
     "text": [
      "<class 'pandas.core.frame.DataFrame'>\n",
      "RangeIndex: 134 entries, 0 to 133\n",
      "Data columns (total 2 columns):\n",
      " #   Column    Non-Null Count  Dtype \n",
      "---  ------    --------------  ----- \n",
      " 0   aisle_id  134 non-null    int64 \n",
      " 1   aisle     134 non-null    object\n",
      "dtypes: int64(1), object(1)\n",
      "memory usage: 2.2+ KB\n",
      "(134, 2)\n",
      "\n",
      "         aisle_id\n",
      "count  134.000000\n",
      "mean    67.500000\n",
      "std     38.826537\n",
      "min      1.000000\n",
      "25%     34.250000\n",
      "50%     67.500000\n",
      "75%    100.750000\n",
      "max    134.000000\n",
      "\n",
      "   aisle_id                       aisle\n",
      "0         1       prepared soups salads\n",
      "1         2           specialty cheeses\n",
      "2         3         energy granola bars\n",
      "3         4               instant foods\n",
      "4         5  marinades meat preparation\n",
      "\n",
      "     aisle_id                aisle\n",
      "37         38         frozen meals\n",
      "26         27        beers coolers\n",
      "2           3  energy granola bars\n",
      "36         37        ice cream ice\n",
      "126       127    body lotions soap\n",
      "\n",
      "aisle_id count of unique values = 134\n",
      "\n",
      "aisle count of unique values = 134\n",
      "\n",
      "\n",
      "\n",
      "<class 'pandas.core.frame.DataFrame'>\n",
      "RangeIndex: 21 entries, 0 to 20\n",
      "Data columns (total 2 columns):\n",
      " #   Column         Non-Null Count  Dtype \n",
      "---  ------         --------------  ----- \n",
      " 0   department_id  21 non-null     int64 \n",
      " 1   department     21 non-null     object\n",
      "dtypes: int64(1), object(1)\n",
      "memory usage: 464.0+ bytes\n",
      "(21, 2)\n",
      "\n",
      "       department_id\n",
      "count      21.000000\n",
      "mean       11.000000\n",
      "std         6.204837\n",
      "min         1.000000\n",
      "25%         6.000000\n",
      "50%        11.000000\n",
      "75%        16.000000\n",
      "max        21.000000\n",
      "\n",
      "   department_id department\n",
      "0              1     frozen\n",
      "1              2      other\n",
      "2              3     bakery\n",
      "3              4    produce\n",
      "4              5    alcohol\n",
      "\n",
      "    department_id  department\n",
      "0               1      frozen\n",
      "2               3      bakery\n",
      "18             19      snacks\n",
      "4               5     alcohol\n",
      "15             16  dairy eggs\n",
      "\n",
      "department_id count of unique values = 21\n",
      "\n",
      "department count of unique values = 21\n",
      "\n",
      "\n",
      "\n",
      "<class 'pandas.core.frame.DataFrame'>\n",
      "RangeIndex: 478967 entries, 0 to 478966\n",
      "Data columns (total 6 columns):\n",
      " #   Column                  Non-Null Count   Dtype  \n",
      "---  ------                  --------------   -----  \n",
      " 0   order_id                478967 non-null  int64  \n",
      " 1   user_id                 478967 non-null  int64  \n",
      " 2   order_number            478967 non-null  int64  \n",
      " 3   order_dow               478967 non-null  int64  \n",
      " 4   order_hour_of_day       478967 non-null  int64  \n",
      " 5   days_since_prior_order  450148 non-null  float64\n",
      "dtypes: float64(1), int64(5)\n",
      "memory usage: 21.9 MB\n",
      "(478967, 6)\n",
      "\n",
      "           order_id        user_id   order_number      order_dow  \\\n",
      "count  4.789670e+05  478967.000000  478967.000000  478967.000000   \n",
      "mean   1.709947e+06  102966.537475      17.157808       2.775058   \n",
      "std    9.869480e+05   59525.328991      17.704688       2.045869   \n",
      "min    4.000000e+00       2.000000       1.000000       0.000000   \n",
      "25%    8.564685e+05   51414.000000       5.000000       1.000000   \n",
      "50%    1.709522e+06  102633.000000      11.000000       3.000000   \n",
      "75%    2.562990e+06  154419.000000      23.000000       5.000000   \n",
      "max    3.421079e+06  206209.000000     100.000000       6.000000   \n",
      "\n",
      "       order_hour_of_day  days_since_prior_order  \n",
      "count      478967.000000           450148.000000  \n",
      "mean           13.446676               11.101751  \n",
      "std             4.224986                9.189975  \n",
      "min             0.000000                0.000000  \n",
      "25%            10.000000                4.000000  \n",
      "50%            13.000000                7.000000  \n",
      "75%            16.000000               15.000000  \n",
      "max            23.000000               30.000000  \n",
      "\n",
      "   order_id  user_id  order_number  order_dow  order_hour_of_day  \\\n",
      "0   1515936   183418            11          6                 13   \n",
      "1   1690866   163593             5          5                 12   \n",
      "2   1454967    39980             4          5                 19   \n",
      "3   1768857    82516            56          0                 20   \n",
      "4   3007858   196724             2          4                 12   \n",
      "\n",
      "   days_since_prior_order  \n",
      "0                    30.0  \n",
      "1                     9.0  \n",
      "2                     2.0  \n",
      "3                    10.0  \n",
      "4                    17.0  \n",
      "\n",
      "        order_id  user_id  order_number  order_dow  order_hour_of_day  \\\n",
      "182622     98137    18984             8          1                 21   \n",
      "292902   2001340    17867             6          0                 16   \n",
      "91976    2634776    57389             1          5                 15   \n",
      "72812     600447   119024            26          1                 20   \n",
      "232189   2093488   194651             7          6                 17   \n",
      "\n",
      "        days_since_prior_order  \n",
      "182622                    16.0  \n",
      "292902                     9.0  \n",
      "91976                      NaN  \n",
      "72812                      7.0  \n",
      "232189                    27.0  \n",
      "\n",
      "order_id count of unique values = 478952\n",
      "Column 'order_id' has 15 duplicated values: [1918001  794638  408114 2845099 1112182 1782114 2125197 2160484 1021560\n",
      "  467134 1919531 2282673 1286742 2232988  391768]\n",
      "\n",
      "user_id count of unique values = 157437\n",
      "Column 'user_id' has 102082 duplicated values: [183418 163593  82516 ...  26798 201408  90787]\n",
      "\n",
      "order_number count of unique values = 100\n",
      "Column 'order_number' has 100 duplicated values: [ 11   5   4  56   2  40  33  18  21  34  19   7  63  29   9  12  14  24\n",
      "   1  38   3  27   8  25   6  28  58  17  13  15  48  26  86  30  16  10\n",
      "  78  23  35  41  39  59  77  53  43  32  99  20  68  94  98  46  72  70\n",
      "  54  37  44  69  49  22  52  60  75  31  47  57  62  67  65  76  81  84\n",
      "  71  80  51  95  36  83  42  87  55  97  50  61  93  91  79  88  45  82\n",
      "  64  74  92  66  89  90 100  96  73  85]\n",
      "\n",
      "order_dow count of unique values = 7\n",
      "Column 'order_dow' has 7 duplicated values: [6 5 0 4 3 1 2]\n",
      "\n",
      "order_hour_of_day count of unique values = 24\n",
      "Column 'order_hour_of_day' has 24 duplicated values: [13 12 19 20 11  8 18 15 16  9 22 10  0 14 17  1  7  6  2 21  3 23  5  4]\n",
      "\n",
      "days_since_prior_order count of unique values = 31\n",
      "Column 'days_since_prior_order' has 32 duplicated values: [30.  9.  2. 10. 17. 15. 22.  4.  8.  3. 12. 11.  7.  1.  5.  6. 14. nan\n",
      " 20. 16. 24. 23. 27. 13.  0. 28. 21. 25. 19. 18. 29. 26.]\n",
      "\n",
      "\n",
      "\n",
      "<class 'pandas.core.frame.DataFrame'>\n",
      "RangeIndex: 4545007 entries, 0 to 4545006\n",
      "Data columns (total 4 columns):\n",
      " #   Column             Non-Null Count    Dtype  \n",
      "---  ------             --------------    -----  \n",
      " 0   order_id           4545007 non-null  int64  \n",
      " 1   product_id         4545007 non-null  int64  \n",
      " 2   add_to_cart_order  4544171 non-null  float64\n",
      " 3   reordered          4545007 non-null  int64  \n",
      "dtypes: float64(1), int64(3)\n",
      "memory usage: 138.7 MB\n",
      "(4545007, 4)\n",
      "\n",
      "           order_id    product_id  add_to_cart_order     reordered\n",
      "count  4.545007e+06  4.545007e+06       4.544171e+06  4.545007e+06\n",
      "mean   1.711166e+06  2.558084e+04       8.351669e+00  5.905025e-01\n",
      "std    9.850955e+05  1.409552e+04       7.080368e+00  4.917411e-01\n",
      "min    4.000000e+00  1.000000e+00       1.000000e+00  0.000000e+00\n",
      "25%    8.608170e+05  1.353500e+04       3.000000e+00  0.000000e+00\n",
      "50%    1.711530e+06  2.527200e+04       6.000000e+00  1.000000e+00\n",
      "75%    2.561311e+06  3.793500e+04       1.100000e+01  1.000000e+00\n",
      "max    3.421079e+06  4.969400e+04       6.400000e+01  1.000000e+00\n",
      "\n",
      "   order_id  product_id  add_to_cart_order  reordered\n",
      "0   2141543       11440               17.0          0\n",
      "1    567889        1560                1.0          1\n",
      "2   2261212       26683                1.0          1\n",
      "3    491251        8670               35.0          1\n",
      "4   2571142        1940                5.0          1\n",
      "\n",
      "         order_id  product_id  add_to_cart_order  reordered\n",
      "3231828    802956       33352                3.0          0\n",
      "4226363   3064529       12481               11.0          1\n",
      "4432248   1996336       44397                3.0          1\n",
      "2540989    959975        3222                1.0          0\n",
      "1303901    340067       22228               18.0          1\n",
      "\n",
      "order_id count of unique values = 450046\n",
      "Column 'order_id' has 428199 duplicated values: [2141543  567889 2261212 ... 2723101 2447495 1029185]\n",
      "\n",
      "product_id count of unique values = 45573\n",
      "Column 'product_id' has 40526 duplicated values: [11440  1560 26683 ... 42744 41258 21507]\n",
      "\n",
      "add_to_cart_order count of unique values = 64\n",
      "Column 'add_to_cart_order' has 65 duplicated values: [17.  1. 35.  5.  4. 10. 14.  2. 28.  3. 16.  8.  7.  6.  9. 15. 22. 49.\n",
      " 19. 13. 11. 12. 18. 24. 23. 45. 30. 31. 29. 21. 38. 20. 57. 58. 26. 25.\n",
      " 39. 34. 40. 27. nan 43. 33. 42. 50. 32. 36. 37. 61. 46. 56. 41. 44. 55.\n",
      " 54. 47. 63. 48. 60. 62. 53. 59. 52. 51. 64.]\n",
      "\n",
      "reordered count of unique values = 2\n",
      "Column 'reordered' has 2 duplicated values: [0 1]\n",
      "\n",
      "\n",
      "\n",
      "<class 'pandas.core.frame.DataFrame'>\n",
      "RangeIndex: 49694 entries, 0 to 49693\n",
      "Data columns (total 4 columns):\n",
      " #   Column         Non-Null Count  Dtype \n",
      "---  ------         --------------  ----- \n",
      " 0   product_id     49694 non-null  int64 \n",
      " 1   product_name   48436 non-null  object\n",
      " 2   aisle_id       49694 non-null  int64 \n",
      " 3   department_id  49694 non-null  int64 \n",
      "dtypes: int64(3), object(1)\n",
      "memory usage: 1.5+ MB\n",
      "(49694, 4)\n",
      "\n",
      "         product_id      aisle_id  department_id\n",
      "count  49694.000000  49694.000000   49694.000000\n",
      "mean   24847.500000     67.773192      11.728478\n",
      "std    14345.566475     38.317265       5.850314\n",
      "min        1.000000      1.000000       1.000000\n",
      "25%    12424.250000     35.000000       7.000000\n",
      "50%    24847.500000     69.000000      13.000000\n",
      "75%    37270.750000    100.000000      17.000000\n",
      "max    49694.000000    134.000000      21.000000\n",
      "\n",
      "   product_id                                       product_name  aisle_id  \\\n",
      "0           1                         Chocolate Sandwich Cookies        61   \n",
      "1           2                                   All-Seasons Salt       104   \n",
      "2           3               Robust Golden Unsweetened Oolong Tea        94   \n",
      "3           4  Smart Ones Classic Favorites Mini Rigatoni Wit...        38   \n",
      "4           5                          Green Chile Anytime Sauce         5   \n",
      "\n",
      "   department_id  \n",
      "0             19  \n",
      "1             13  \n",
      "2              7  \n",
      "3              1  \n",
      "4             13  \n",
      "\n",
      "       product_id                              product_name  aisle_id  \\\n",
      "21458       21459      Tomato Basil Bisque RTS Organic Soup        69   \n",
      "13183       13184                Lemon Iced Tea Mix Packets        90   \n",
      "26135       26136  Herbal Laxative Caffeine Free Herbal Tea        94   \n",
      "45893       45894               Zero Calorie Free Sweetener        17   \n",
      "3898         3899               Chocolate Fudge Bite-lettes        45   \n",
      "\n",
      "       department_id  \n",
      "21458             15  \n",
      "13183              7  \n",
      "26135              7  \n",
      "45893             13  \n",
      "3898              19  \n",
      "\n",
      "product_id count of unique values = 49694\n",
      "\n",
      "product_name count of unique values = 48436\n",
      "Column 'product_name' has 1 duplicated values: [nan]\n",
      "\n",
      "aisle_id count of unique values = 134\n",
      "Column 'aisle_id' has 134 duplicated values: [ 61 104  94  38   5  11  98 116 120 115  31 119  74  56 103  35  79  63\n",
      "  40  20  49  47   3  41 127 121  81 123 107 131 106  69 100  64  78  83\n",
      "  58  66  87  14 105  22 134  23 111 128  50   9  96  92  89  88 130  26\n",
      "  77  65  12  95  19   7   6  97   2 112  10  51  13  75  70  93  34  62\n",
      "  21  29  45 118   4 108  37 109  91  24  67 132  25 129  46  16  52  17\n",
      "  73 122  42  59 126  33   1   8  82 114 124 117  72 110  85  44  80 101\n",
      "  84  30  27  90  48 133  53  28  68  43 125  57  15  55  36  54 102  60\n",
      "  99  18  39  71 113  86  32  76]\n",
      "\n",
      "department_id count of unique values = 21\n",
      "Column 'department_id' has 21 duplicated values: [19 13  7  1 11 16 17 18 12  9  8 14 15  4 21  6 20  5  3  2 10]\n",
      "\n",
      "\n",
      "\n"
     ]
    }
   ],
   "source": [
    "# Look at some metadata\n",
    "def print_lots_of_info(df):\n",
    "    df.info(show_counts=True)\n",
    "    print(df.shape)\n",
    "    print()\n",
    "    print(df.describe())\n",
    "    print()\n",
    "    print(df.head(5))\n",
    "    print()\n",
    "    print(df.sample(5))\n",
    "    print()\n",
    "    do_each_col_too(df)\n",
    "    print()\n",
    "    print()\n",
    "\n",
    "def do_each_col_too(df):\n",
    "    for c in df.columns:\n",
    "        print(c, 'count of unique values =', df[c].nunique())\n",
    "        # count the number of duplicated values in each column\n",
    "        mask = df.duplicated(subset=c, keep=False)\n",
    "        duplicated_values = df.loc[mask, c].unique()\n",
    "        num_duplicates = len(duplicated_values)\n",
    "        if num_duplicates > 0:\n",
    "            print(f\"Column '{c}' has {num_duplicates} duplicated values: {duplicated_values}\")\n",
    "        print()\n",
    "\n",
    "\n",
    "\n",
    "for df in dfs:\n",
    "    print_lots_of_info(df)"
   ]
  },
  {
   "cell_type": "code",
   "execution_count": 3,
   "id": "842f71fc",
   "metadata": {},
   "outputs": [],
   "source": [
    "i_df = i_df.drop_duplicates()"
   ]
  },
  {
   "cell_type": "code",
   "execution_count": 4,
   "id": "59e2090f",
   "metadata": {},
   "outputs": [],
   "source": [
    "# column renames\n",
    "col_renames = [\n",
    "    { # For a_df\n",
    "        'aisle_id': 'id',\n",
    "        'aisle': 'name'\n",
    "    },\n",
    "    { # For d_df\n",
    "        'department_id': 'id',\n",
    "        'department': 'name'\n",
    "    },\n",
    "    { # For i_df\n",
    "        'order_id': 'id',\n",
    "        'order_number': 'user_order_number',\n",
    "        'order_dow': 'day_of_week_numeral'\n",
    "    },\n",
    "    { # For o_df\n",
    "        'add_to_cart_order': 'cart_item_id'\n",
    "    },\n",
    "    { # For p_df\n",
    "        'product_id': 'id',\n",
    "        'product_name': 'name'\n",
    "    },\n",
    "]"
   ]
  },
  {
   "cell_type": "code",
   "execution_count": 5,
   "id": "6fc81694",
   "metadata": {},
   "outputs": [
    {
     "name": "stdout",
     "output_type": "stream",
     "text": [
      "<class 'pandas.core.frame.DataFrame'>\n",
      "RangeIndex: 134 entries, 0 to 133\n",
      "Data columns (total 2 columns):\n",
      " #   Column  Non-Null Count  Dtype \n",
      "---  ------  --------------  ----- \n",
      " 0   id      134 non-null    int64 \n",
      " 1   name    134 non-null    object\n",
      "dtypes: int64(1), object(1)\n",
      "memory usage: 2.2+ KB\n",
      "(134, 2)\n",
      "\n",
      "               id\n",
      "count  134.000000\n",
      "mean    67.500000\n",
      "std     38.826537\n",
      "min      1.000000\n",
      "25%     34.250000\n",
      "50%     67.500000\n",
      "75%    100.750000\n",
      "max    134.000000\n",
      "\n",
      "   id                        name\n",
      "0   1       prepared soups salads\n",
      "1   2           specialty cheeses\n",
      "2   3         energy granola bars\n",
      "3   4               instant foods\n",
      "4   5  marinades meat preparation\n",
      "\n",
      "      id                           name\n",
      "29    30                   latino foods\n",
      "11    12                    fresh pasta\n",
      "106  107                 chips pretzels\n",
      "19    20                   oral hygiene\n",
      "114  115  water seltzer sparkling water\n",
      "\n",
      "id count of unique values = 134\n",
      "\n",
      "name count of unique values = 134\n",
      "\n",
      "\n",
      "\n",
      "<class 'pandas.core.frame.DataFrame'>\n",
      "RangeIndex: 21 entries, 0 to 20\n",
      "Data columns (total 2 columns):\n",
      " #   Column  Non-Null Count  Dtype \n",
      "---  ------  --------------  ----- \n",
      " 0   id      21 non-null     int64 \n",
      " 1   name    21 non-null     object\n",
      "dtypes: int64(1), object(1)\n",
      "memory usage: 464.0+ bytes\n",
      "(21, 2)\n",
      "\n",
      "              id\n",
      "count  21.000000\n",
      "mean   11.000000\n",
      "std     6.204837\n",
      "min     1.000000\n",
      "25%     6.000000\n",
      "50%    11.000000\n",
      "75%    16.000000\n",
      "max    21.000000\n",
      "\n",
      "   id     name\n",
      "0   1   frozen\n",
      "1   2    other\n",
      "2   3   bakery\n",
      "3   4  produce\n",
      "4   5  alcohol\n",
      "\n",
      "    id           name\n",
      "4    5        alcohol\n",
      "0    1         frozen\n",
      "5    6  international\n",
      "20  21        missing\n",
      "14  15   canned goods\n",
      "\n",
      "id count of unique values = 21\n",
      "\n",
      "name count of unique values = 21\n",
      "\n",
      "\n",
      "\n",
      "<class 'pandas.core.frame.DataFrame'>\n",
      "Int64Index: 478952 entries, 0 to 478966\n",
      "Data columns (total 6 columns):\n",
      " #   Column                  Non-Null Count   Dtype  \n",
      "---  ------                  --------------   -----  \n",
      " 0   id                      478952 non-null  int64  \n",
      " 1   user_id                 478952 non-null  int64  \n",
      " 2   user_order_number       478952 non-null  int64  \n",
      " 3   day_of_week_numeral     478952 non-null  int64  \n",
      " 4   order_hour_of_day       478952 non-null  int64  \n",
      " 5   days_since_prior_order  450135 non-null  float64\n",
      "dtypes: float64(1), int64(5)\n",
      "memory usage: 25.6 MB\n",
      "(478952, 6)\n",
      "\n",
      "                 id        user_id  user_order_number  day_of_week_numeral  \\\n",
      "count  4.789520e+05  478952.000000      478952.000000        478952.000000   \n",
      "mean   1.709953e+06  102966.654911          17.157563             2.775051   \n",
      "std    9.869537e+05   59525.292863          17.704457             2.045901   \n",
      "min    4.000000e+00       2.000000           1.000000             0.000000   \n",
      "25%    8.564698e+05   51413.750000           5.000000             1.000000   \n",
      "50%    1.709521e+06  102633.000000          11.000000             3.000000   \n",
      "75%    2.563002e+06  154419.000000          23.000000             5.000000   \n",
      "max    3.421079e+06  206209.000000         100.000000             6.000000   \n",
      "\n",
      "       order_hour_of_day  days_since_prior_order  \n",
      "count      478952.000000           450135.000000  \n",
      "mean           13.447034               11.101814  \n",
      "std             4.224567                9.190004  \n",
      "min             0.000000                0.000000  \n",
      "25%            10.000000                4.000000  \n",
      "50%            13.000000                7.000000  \n",
      "75%            16.000000               15.000000  \n",
      "max            23.000000               30.000000  \n",
      "\n",
      "        id  user_id  user_order_number  day_of_week_numeral  \\\n",
      "0  1515936   183418                 11                    6   \n",
      "1  1690866   163593                  5                    5   \n",
      "2  1454967    39980                  4                    5   \n",
      "3  1768857    82516                 56                    0   \n",
      "4  3007858   196724                  2                    4   \n",
      "\n",
      "   order_hour_of_day  days_since_prior_order  \n",
      "0                 13                    30.0  \n",
      "1                 12                     9.0  \n",
      "2                 19                     2.0  \n",
      "3                 20                    10.0  \n",
      "4                 12                    17.0  \n",
      "\n",
      "             id  user_id  user_order_number  day_of_week_numeral  \\\n",
      "265601  2464377    66525                  4                    4   \n",
      "66848    120945    51513                 13                    5   \n",
      "161790  3222390     4920                  7                    0   \n",
      "348652   391467   197764                 11                    5   \n",
      "292594   740158   146972                 10                    4   \n",
      "\n",
      "        order_hour_of_day  days_since_prior_order  \n",
      "265601                 12                    12.0  \n",
      "66848                  17                    12.0  \n",
      "161790                 20                    27.0  \n",
      "348652                 18                    10.0  \n",
      "292594                 18                     4.0  \n",
      "\n",
      "id count of unique values = 478952\n",
      "\n",
      "user_id count of unique values = 157437\n",
      "Column 'user_id' has 102080 duplicated values: [183418 163593  82516 ...  26798 201408  90787]\n",
      "\n",
      "user_order_number count of unique values = 100\n",
      "Column 'user_order_number' has 100 duplicated values: [ 11   5   4  56   2  40  33  18  21  34  19   7  63  29   9  12  14  24\n",
      "   1  38   3  27   8  25   6  28  58  17  13  15  48  26  86  30  16  10\n",
      "  78  23  35  41  39  59  77  53  43  32  99  20  68  94  98  46  72  70\n",
      "  54  37  44  69  49  22  52  60  75  31  47  57  62  67  65  76  81  84\n",
      "  71  80  51  95  36  83  42  87  55  97  50  61  93  91  79  88  45  82\n",
      "  64  74  92  66  89  90 100  96  73  85]\n",
      "\n",
      "day_of_week_numeral count of unique values = 7\n",
      "Column 'day_of_week_numeral' has 7 duplicated values: [6 5 0 4 3 1 2]\n",
      "\n",
      "order_hour_of_day count of unique values = 24\n",
      "Column 'order_hour_of_day' has 24 duplicated values: [13 12 19 20 11  8 18 15 16  9 22 10  0 14 17  1  7  6  2 21  3 23  5  4]\n",
      "\n",
      "days_since_prior_order count of unique values = 31\n",
      "Column 'days_since_prior_order' has 32 duplicated values: [30.  9.  2. 10. 17. 15. 22.  4.  8.  3. 12. 11.  7.  1.  5.  6. 14. nan\n",
      " 20. 16. 24. 23. 27. 13.  0. 28. 21. 25. 19. 18. 29. 26.]\n",
      "\n",
      "\n",
      "\n",
      "<class 'pandas.core.frame.DataFrame'>\n",
      "RangeIndex: 4545007 entries, 0 to 4545006\n",
      "Data columns (total 4 columns):\n",
      " #   Column        Non-Null Count    Dtype  \n",
      "---  ------        --------------    -----  \n",
      " 0   order_id      4545007 non-null  int64  \n",
      " 1   product_id    4545007 non-null  int64  \n",
      " 2   cart_item_id  4544171 non-null  float64\n",
      " 3   reordered     4545007 non-null  int64  \n",
      "dtypes: float64(1), int64(3)\n",
      "memory usage: 138.7 MB\n",
      "(4545007, 4)\n",
      "\n",
      "           order_id    product_id  cart_item_id     reordered\n",
      "count  4.545007e+06  4.545007e+06  4.544171e+06  4.545007e+06\n",
      "mean   1.711166e+06  2.558084e+04  8.351669e+00  5.905025e-01\n",
      "std    9.850955e+05  1.409552e+04  7.080368e+00  4.917411e-01\n",
      "min    4.000000e+00  1.000000e+00  1.000000e+00  0.000000e+00\n",
      "25%    8.608170e+05  1.353500e+04  3.000000e+00  0.000000e+00\n",
      "50%    1.711530e+06  2.527200e+04  6.000000e+00  1.000000e+00\n",
      "75%    2.561311e+06  3.793500e+04  1.100000e+01  1.000000e+00\n",
      "max    3.421079e+06  4.969400e+04  6.400000e+01  1.000000e+00\n",
      "\n",
      "   order_id  product_id  cart_item_id  reordered\n",
      "0   2141543       11440          17.0          0\n",
      "1    567889        1560           1.0          1\n",
      "2   2261212       26683           1.0          1\n",
      "3    491251        8670          35.0          1\n",
      "4   2571142        1940           5.0          1\n",
      "\n",
      "         order_id  product_id  cart_item_id  reordered\n",
      "3470534    366608       17902           2.0          0\n",
      "2817268   2441469        7361          15.0          0\n",
      "1819398     85207        3469          18.0          0\n",
      "275309    3087276       13660           2.0          1\n",
      "4302857   1019319       21405          10.0          1\n",
      "\n",
      "order_id count of unique values = 450046\n",
      "Column 'order_id' has 428199 duplicated values: [2141543  567889 2261212 ... 2723101 2447495 1029185]\n",
      "\n",
      "product_id count of unique values = 45573\n",
      "Column 'product_id' has 40526 duplicated values: [11440  1560 26683 ... 42744 41258 21507]\n",
      "\n",
      "cart_item_id count of unique values = 64\n",
      "Column 'cart_item_id' has 65 duplicated values: [17.  1. 35.  5.  4. 10. 14.  2. 28.  3. 16.  8.  7.  6.  9. 15. 22. 49.\n",
      " 19. 13. 11. 12. 18. 24. 23. 45. 30. 31. 29. 21. 38. 20. 57. 58. 26. 25.\n",
      " 39. 34. 40. 27. nan 43. 33. 42. 50. 32. 36. 37. 61. 46. 56. 41. 44. 55.\n",
      " 54. 47. 63. 48. 60. 62. 53. 59. 52. 51. 64.]\n",
      "\n",
      "reordered count of unique values = 2\n",
      "Column 'reordered' has 2 duplicated values: [0 1]\n",
      "\n",
      "\n",
      "\n",
      "<class 'pandas.core.frame.DataFrame'>\n",
      "RangeIndex: 49694 entries, 0 to 49693\n",
      "Data columns (total 4 columns):\n",
      " #   Column         Non-Null Count  Dtype \n",
      "---  ------         --------------  ----- \n",
      " 0   id             49694 non-null  int64 \n",
      " 1   name           48436 non-null  object\n",
      " 2   aisle_id       49694 non-null  int64 \n",
      " 3   department_id  49694 non-null  int64 \n",
      "dtypes: int64(3), object(1)\n",
      "memory usage: 1.5+ MB\n",
      "(49694, 4)\n",
      "\n",
      "                 id      aisle_id  department_id\n",
      "count  49694.000000  49694.000000   49694.000000\n",
      "mean   24847.500000     67.773192      11.728478\n",
      "std    14345.566475     38.317265       5.850314\n",
      "min        1.000000      1.000000       1.000000\n",
      "25%    12424.250000     35.000000       7.000000\n",
      "50%    24847.500000     69.000000      13.000000\n",
      "75%    37270.750000    100.000000      17.000000\n",
      "max    49694.000000    134.000000      21.000000\n",
      "\n",
      "   id                                               name  aisle_id  \\\n",
      "0   1                         Chocolate Sandwich Cookies        61   \n",
      "1   2                                   All-Seasons Salt       104   \n",
      "2   3               Robust Golden Unsweetened Oolong Tea        94   \n",
      "3   4  Smart Ones Classic Favorites Mini Rigatoni Wit...        38   \n",
      "4   5                          Green Chile Anytime Sauce         5   \n",
      "\n",
      "   department_id  \n",
      "0             19  \n",
      "1             13  \n",
      "2              7  \n",
      "3              1  \n",
      "4             13  \n",
      "\n",
      "          id                                             name  aisle_id  \\\n",
      "40333  40334                         Organic White Pita Bread       128   \n",
      "39130  39131                                   Calendula Soap        25   \n",
      "34712  34713                      Shredded Pepper Jack Cheese        21   \n",
      "6402    6403  Slow Churned Light Mint Cookie Crunch Ice Cream        37   \n",
      "17645  17646                Light Tongol Tuna In Spring Water        95   \n",
      "\n",
      "       department_id  \n",
      "40333              3  \n",
      "39130             11  \n",
      "34712             16  \n",
      "6402               1  \n",
      "17645             15  \n",
      "\n",
      "id count of unique values = 49694\n",
      "\n",
      "name count of unique values = 48436\n",
      "Column 'name' has 1 duplicated values: [nan]\n",
      "\n",
      "aisle_id count of unique values = 134\n",
      "Column 'aisle_id' has 134 duplicated values: [ 61 104  94  38   5  11  98 116 120 115  31 119  74  56 103  35  79  63\n",
      "  40  20  49  47   3  41 127 121  81 123 107 131 106  69 100  64  78  83\n",
      "  58  66  87  14 105  22 134  23 111 128  50   9  96  92  89  88 130  26\n",
      "  77  65  12  95  19   7   6  97   2 112  10  51  13  75  70  93  34  62\n",
      "  21  29  45 118   4 108  37 109  91  24  67 132  25 129  46  16  52  17\n",
      "  73 122  42  59 126  33   1   8  82 114 124 117  72 110  85  44  80 101\n",
      "  84  30  27  90  48 133  53  28  68  43 125  57  15  55  36  54 102  60\n",
      "  99  18  39  71 113  86  32  76]\n",
      "\n",
      "department_id count of unique values = 21\n",
      "Column 'department_id' has 21 duplicated values: [19 13  7  1 11 16 17 18 12  9  8 14 15  4 21  6 20  5  3  2 10]\n",
      "\n",
      "\n",
      "\n"
     ]
    }
   ],
   "source": [
    "\n",
    "a_df = a_df.rename(columns=col_renames[0])\n",
    "d_df = d_df.rename(columns=col_renames[1])\n",
    "i_df = i_df.rename(columns=col_renames[2])\n",
    "o_df = o_df.rename(columns=col_renames[3])\n",
    "p_df = p_df.rename(columns=col_renames[4])\n",
    "\n",
    "dfs = [\n",
    "    a_df, # 'a' for 'aisles'\n",
    "    d_df, # 'd' for 'departments'\n",
    "    i_df, # 'i' for 'instacart_orders'\n",
    "    o_df, # 'o' for 'order_products'\n",
    "    p_df  # 'p' for 'products'\n",
    "]\n",
    "\n",
    "for df in dfs:\n",
    "    print_lots_of_info(df)"
   ]
  },
  {
   "attachments": {},
   "cell_type": "markdown",
   "id": "07357848-dc64-4156-9cc3-01ff4365226d",
   "metadata": {},
   "source": [
    "## Find and remove duplicate values (and describe why you make your choices)"
   ]
  },
  {
   "attachments": {},
   "cell_type": "markdown",
   "id": "f179f0a9",
   "metadata": {},
   "source": [
    "### `orders` data frame"
   ]
  },
  {
   "cell_type": "code",
   "execution_count": 7,
   "id": "b99297a5-405a-463d-8535-9adc3da4ad74",
   "metadata": {},
   "outputs": [],
   "source": [
    "# Check for duplicated orders\n"
   ]
  },
  {
   "cell_type": "code",
   "execution_count": 8,
   "id": "0d44de5d",
   "metadata": {},
   "outputs": [],
   "source": [
    "# Check for all orders placed Wednesday at 2:00 AM\n"
   ]
  },
  {
   "cell_type": "code",
   "execution_count": 9,
   "id": "480563c7",
   "metadata": {},
   "outputs": [],
   "source": [
    "# Remove duplicate orders\n"
   ]
  },
  {
   "cell_type": "code",
   "execution_count": 10,
   "id": "0b2396a2",
   "metadata": {},
   "outputs": [],
   "source": [
    "# Double check for duplicate rows\n"
   ]
  },
  {
   "cell_type": "code",
   "execution_count": 11,
   "id": "f6113ef1",
   "metadata": {},
   "outputs": [],
   "source": [
    "# Double check for duplicate order IDs only\n"
   ]
  },
  {
   "attachments": {},
   "cell_type": "markdown",
   "id": "5e8905ae",
   "metadata": {},
   "source": []
  },
  {
   "attachments": {},
   "cell_type": "markdown",
   "id": "45e6bc46",
   "metadata": {},
   "source": [
    "### `products` data frame"
   ]
  },
  {
   "cell_type": "code",
   "execution_count": 12,
   "id": "5f526b5b-8175-46fa-a0fd-441767d50e64",
   "metadata": {},
   "outputs": [],
   "source": [
    "# Check for fully duplicate rows\n"
   ]
  },
  {
   "cell_type": "code",
   "execution_count": 13,
   "id": "88daa4f4",
   "metadata": {},
   "outputs": [],
   "source": [
    "# Check for just duplicate product IDs\n"
   ]
  },
  {
   "cell_type": "code",
   "execution_count": 14,
   "id": "c773f0bf",
   "metadata": {},
   "outputs": [],
   "source": [
    "# Check for just duplicate product names (convert names to lowercase to compare better)\n"
   ]
  },
  {
   "cell_type": "code",
   "execution_count": 15,
   "id": "01efd02e",
   "metadata": {},
   "outputs": [],
   "source": [
    "# Check for duplicate product names that aren't missing\n"
   ]
  },
  {
   "attachments": {},
   "cell_type": "markdown",
   "id": "9da8d293",
   "metadata": {},
   "source": []
  },
  {
   "attachments": {},
   "cell_type": "markdown",
   "id": "60f30db1",
   "metadata": {},
   "source": [
    "### `departments` data frame"
   ]
  },
  {
   "cell_type": "code",
   "execution_count": null,
   "id": "fb410ad4-0fbf-4b80-bb09-23fdea79afe3",
   "metadata": {},
   "outputs": [],
   "source": []
  },
  {
   "cell_type": "code",
   "execution_count": null,
   "id": "332b12bb",
   "metadata": {},
   "outputs": [],
   "source": []
  },
  {
   "attachments": {},
   "cell_type": "markdown",
   "id": "bd30d78e",
   "metadata": {},
   "source": []
  },
  {
   "attachments": {},
   "cell_type": "markdown",
   "id": "889349c1",
   "metadata": {},
   "source": [
    "### `aisles` data frame"
   ]
  },
  {
   "cell_type": "code",
   "execution_count": null,
   "id": "9da89fb9-4679-40f5-ad0d-c34df753a3f8",
   "metadata": {},
   "outputs": [],
   "source": []
  },
  {
   "cell_type": "code",
   "execution_count": null,
   "id": "da7c2822",
   "metadata": {},
   "outputs": [],
   "source": []
  },
  {
   "attachments": {},
   "cell_type": "markdown",
   "id": "ac63826f",
   "metadata": {},
   "source": []
  },
  {
   "attachments": {},
   "cell_type": "markdown",
   "id": "274cd06a",
   "metadata": {},
   "source": [
    "### `order_products` data frame"
   ]
  },
  {
   "cell_type": "code",
   "execution_count": 16,
   "id": "52326689-84a8-4b8f-a881-7c68780f62c9",
   "metadata": {},
   "outputs": [],
   "source": [
    "# Check for fullly duplicate rows\n"
   ]
  },
  {
   "cell_type": "code",
   "execution_count": 17,
   "id": "7b861391",
   "metadata": {},
   "outputs": [],
   "source": [
    "# Double check for any other tricky duplicates\n"
   ]
  },
  {
   "attachments": {},
   "cell_type": "markdown",
   "id": "0b890492",
   "metadata": {},
   "source": []
  },
  {
   "attachments": {},
   "cell_type": "markdown",
   "id": "1e46de76",
   "metadata": {},
   "source": [
    "## Find and remove missing values\n"
   ]
  },
  {
   "attachments": {},
   "cell_type": "markdown",
   "id": "c0aebd78",
   "metadata": {},
   "source": [
    "### `products` data frame"
   ]
  },
  {
   "cell_type": "code",
   "execution_count": null,
   "id": "fe4a8b0f",
   "metadata": {},
   "outputs": [],
   "source": []
  },
  {
   "cell_type": "code",
   "execution_count": 18,
   "id": "e96167bc",
   "metadata": {},
   "outputs": [],
   "source": [
    "# Are all of the missing product names associated with aisle ID 100?\n"
   ]
  },
  {
   "cell_type": "code",
   "execution_count": 19,
   "id": "8fd0a541",
   "metadata": {},
   "outputs": [],
   "source": [
    "# Are all of the missing product names associated with department ID 21?\n"
   ]
  },
  {
   "cell_type": "code",
   "execution_count": 20,
   "id": "325c3464",
   "metadata": {},
   "outputs": [],
   "source": [
    "# What is this ailse and department?\n"
   ]
  },
  {
   "cell_type": "code",
   "execution_count": 21,
   "id": "6b295120",
   "metadata": {},
   "outputs": [],
   "source": [
    "# Fill missing product names with 'Unknown'\n"
   ]
  },
  {
   "attachments": {},
   "cell_type": "markdown",
   "id": "fc70e5ad",
   "metadata": {},
   "source": []
  },
  {
   "attachments": {},
   "cell_type": "markdown",
   "id": "7eb45c86",
   "metadata": {},
   "source": [
    "### `orders` data frame"
   ]
  },
  {
   "cell_type": "code",
   "execution_count": null,
   "id": "93e41d96",
   "metadata": {},
   "outputs": [],
   "source": []
  },
  {
   "cell_type": "code",
   "execution_count": 22,
   "id": "166e5a86",
   "metadata": {},
   "outputs": [],
   "source": [
    "# Are there any missing values where it's not a customer's first order?\n"
   ]
  },
  {
   "attachments": {},
   "cell_type": "markdown",
   "id": "4e23d089",
   "metadata": {},
   "source": []
  },
  {
   "attachments": {},
   "cell_type": "markdown",
   "id": "69dc9ca4",
   "metadata": {},
   "source": [
    "### `order_products` data frame"
   ]
  },
  {
   "cell_type": "code",
   "execution_count": null,
   "id": "b8240253",
   "metadata": {},
   "outputs": [],
   "source": []
  },
  {
   "cell_type": "code",
   "execution_count": 23,
   "id": "9a78e5ee",
   "metadata": {},
   "outputs": [],
   "source": [
    "# What are the min and max values in this column?\n"
   ]
  },
  {
   "cell_type": "code",
   "execution_count": 24,
   "id": "ab9d0c2b",
   "metadata": {},
   "outputs": [],
   "source": [
    "# Save all order IDs with at least one missing value in 'add_to_cart_order'\n"
   ]
  },
  {
   "cell_type": "code",
   "execution_count": 25,
   "id": "54c31695",
   "metadata": {},
   "outputs": [],
   "source": [
    "# Do all orders with missing values have more than 64 products?\n"
   ]
  },
  {
   "cell_type": "code",
   "execution_count": 26,
   "id": "7a987d08",
   "metadata": {},
   "outputs": [],
   "source": [
    "# Replace missing values with 999 and convert column to integer type\n"
   ]
  },
  {
   "attachments": {},
   "cell_type": "markdown",
   "id": "fea4bcc7",
   "metadata": {},
   "source": []
  },
  {
   "attachments": {},
   "cell_type": "markdown",
   "id": "turkish-kidney",
   "metadata": {},
   "source": [
    "# [A] Easy (must complete all to pass)"
   ]
  },
  {
   "attachments": {},
   "cell_type": "markdown",
   "id": "short-capability",
   "metadata": {},
   "source": [
    "### [A1] Verify that the `'order_hour_of_day'` and `'order_dow'` values in the `orders` tables are sensible (i.e. `'order_hour_of_day'` ranges from 0 to 23 and `'order_dow'` ranges from 0 to 6)"
   ]
  },
  {
   "cell_type": "code",
   "execution_count": null,
   "id": "growing-fruit",
   "metadata": {},
   "outputs": [],
   "source": []
  },
  {
   "cell_type": "code",
   "execution_count": null,
   "id": "accessory-malaysia",
   "metadata": {},
   "outputs": [],
   "source": []
  },
  {
   "attachments": {},
   "cell_type": "markdown",
   "id": "a6743a70",
   "metadata": {},
   "source": [
    "### [A2] What time of day do people shop for groceries?"
   ]
  },
  {
   "cell_type": "code",
   "execution_count": null,
   "id": "a36cca27",
   "metadata": {},
   "outputs": [],
   "source": []
  },
  {
   "attachments": {},
   "cell_type": "markdown",
   "id": "11270eed",
   "metadata": {},
   "source": []
  },
  {
   "attachments": {},
   "cell_type": "markdown",
   "id": "documented-command",
   "metadata": {},
   "source": [
    "### [A3] What day of the week do people shop for groceries?"
   ]
  },
  {
   "cell_type": "code",
   "execution_count": null,
   "id": "chief-digit",
   "metadata": {},
   "outputs": [],
   "source": []
  },
  {
   "attachments": {},
   "cell_type": "markdown",
   "id": "dominant-lightning",
   "metadata": {},
   "source": []
  },
  {
   "attachments": {},
   "cell_type": "markdown",
   "id": "cutting-concert",
   "metadata": {},
   "source": [
    "### [A4] How long do people wait until placing another order?"
   ]
  },
  {
   "cell_type": "code",
   "execution_count": null,
   "id": "c231f523",
   "metadata": {},
   "outputs": [],
   "source": []
  },
  {
   "attachments": {},
   "cell_type": "markdown",
   "id": "discrete-vertex",
   "metadata": {},
   "source": []
  },
  {
   "cell_type": "code",
   "execution_count": null,
   "id": "exciting-fantasy",
   "metadata": {},
   "outputs": [],
   "source": []
  },
  {
   "attachments": {},
   "cell_type": "markdown",
   "id": "8d926614",
   "metadata": {},
   "source": []
  },
  {
   "attachments": {},
   "cell_type": "markdown",
   "id": "tight-staff",
   "metadata": {},
   "source": [
    "# [B] Medium (must complete all to pass)"
   ]
  },
  {
   "attachments": {},
   "cell_type": "markdown",
   "id": "packed-classic",
   "metadata": {},
   "source": [
    "### [B1] Is there a difference in `'order_hour_of_day'` distributions on Wednesdays and Saturdays? Plot the histograms for both days and describe the differences that you see."
   ]
  },
  {
   "cell_type": "code",
   "execution_count": null,
   "id": "d89b8403",
   "metadata": {},
   "outputs": [],
   "source": []
  },
  {
   "cell_type": "code",
   "execution_count": null,
   "id": "94e54e8a",
   "metadata": {},
   "outputs": [],
   "source": []
  },
  {
   "cell_type": "code",
   "execution_count": null,
   "id": "797c90a8",
   "metadata": {},
   "outputs": [],
   "source": []
  },
  {
   "cell_type": "code",
   "execution_count": null,
   "id": "35bcea30",
   "metadata": {},
   "outputs": [],
   "source": []
  },
  {
   "attachments": {},
   "cell_type": "markdown",
   "id": "charitable-congo",
   "metadata": {},
   "source": []
  },
  {
   "attachments": {},
   "cell_type": "markdown",
   "id": "e3891143",
   "metadata": {},
   "source": [
    "### [B2] What's the distribution for the number of orders per customer?"
   ]
  },
  {
   "cell_type": "code",
   "execution_count": null,
   "id": "d8c26c23",
   "metadata": {},
   "outputs": [],
   "source": []
  },
  {
   "cell_type": "code",
   "execution_count": null,
   "id": "00e69a66",
   "metadata": {},
   "outputs": [],
   "source": []
  },
  {
   "attachments": {},
   "cell_type": "markdown",
   "id": "d2eff7d5",
   "metadata": {},
   "source": []
  },
  {
   "attachments": {},
   "cell_type": "markdown",
   "id": "54a0319c",
   "metadata": {},
   "source": [
    "### [B3] What are the top 20 popular products (display their id and name)?"
   ]
  },
  {
   "cell_type": "code",
   "execution_count": null,
   "id": "exterior-arizona",
   "metadata": {
    "scrolled": true
   },
   "outputs": [],
   "source": []
  },
  {
   "cell_type": "code",
   "execution_count": null,
   "id": "universal-facial",
   "metadata": {},
   "outputs": [],
   "source": []
  },
  {
   "cell_type": "code",
   "execution_count": null,
   "id": "bbcdd20b",
   "metadata": {},
   "outputs": [],
   "source": []
  },
  {
   "attachments": {},
   "cell_type": "markdown",
   "id": "7df00f47",
   "metadata": {},
   "source": []
  },
  {
   "attachments": {},
   "cell_type": "markdown",
   "id": "gross-theme",
   "metadata": {},
   "source": [
    "# [C] Hard (must complete at least two to pass)"
   ]
  },
  {
   "attachments": {},
   "cell_type": "markdown",
   "id": "romantic-deposit",
   "metadata": {},
   "source": [
    "### [C1] How many items do people typically buy in one order? What does the distribution look like?"
   ]
  },
  {
   "cell_type": "code",
   "execution_count": null,
   "id": "virtual-punch",
   "metadata": {},
   "outputs": [],
   "source": []
  },
  {
   "cell_type": "code",
   "execution_count": null,
   "id": "sensitive-breathing",
   "metadata": {},
   "outputs": [],
   "source": []
  },
  {
   "cell_type": "code",
   "execution_count": null,
   "id": "completed-frank",
   "metadata": {},
   "outputs": [],
   "source": []
  },
  {
   "attachments": {},
   "cell_type": "markdown",
   "id": "designed-mortality",
   "metadata": {},
   "source": []
  },
  {
   "attachments": {},
   "cell_type": "markdown",
   "id": "5e6b5537",
   "metadata": {},
   "source": [
    "### [C2] What are the top 20 items that are reordered most frequently (display their names and product IDs)?"
   ]
  },
  {
   "cell_type": "code",
   "execution_count": null,
   "id": "9374e55a",
   "metadata": {},
   "outputs": [],
   "source": []
  },
  {
   "cell_type": "code",
   "execution_count": null,
   "id": "possible-change",
   "metadata": {
    "scrolled": true
   },
   "outputs": [],
   "source": []
  },
  {
   "cell_type": "code",
   "execution_count": null,
   "id": "professional-surfing",
   "metadata": {
    "scrolled": true
   },
   "outputs": [],
   "source": []
  },
  {
   "cell_type": "code",
   "execution_count": null,
   "id": "48dd3658",
   "metadata": {},
   "outputs": [],
   "source": []
  },
  {
   "attachments": {},
   "cell_type": "markdown",
   "id": "80e70c74",
   "metadata": {},
   "source": []
  },
  {
   "attachments": {},
   "cell_type": "markdown",
   "id": "9d312b14",
   "metadata": {},
   "source": [
    "### [C3] For each product, what proportion of its orders are reorders?"
   ]
  },
  {
   "cell_type": "code",
   "execution_count": null,
   "id": "8ae9f4b1",
   "metadata": {},
   "outputs": [],
   "source": []
  },
  {
   "cell_type": "code",
   "execution_count": null,
   "id": "103e7fe1",
   "metadata": {},
   "outputs": [],
   "source": []
  },
  {
   "cell_type": "code",
   "execution_count": null,
   "id": "social-individual",
   "metadata": {},
   "outputs": [],
   "source": []
  },
  {
   "attachments": {},
   "cell_type": "markdown",
   "id": "subject-boxing",
   "metadata": {},
   "source": [
    "### [C4] For each customer, what proportion of their products ordered are reorders?"
   ]
  },
  {
   "cell_type": "code",
   "execution_count": null,
   "id": "medical-couple",
   "metadata": {
    "scrolled": true
   },
   "outputs": [],
   "source": []
  },
  {
   "cell_type": "code",
   "execution_count": null,
   "id": "8892e4b4",
   "metadata": {},
   "outputs": [],
   "source": []
  },
  {
   "attachments": {},
   "cell_type": "markdown",
   "id": "92d35137",
   "metadata": {},
   "source": [
    "### [C5] What are the top 20 items that people put in their carts first? "
   ]
  },
  {
   "cell_type": "code",
   "execution_count": null,
   "id": "0ae57274",
   "metadata": {
    "scrolled": true
   },
   "outputs": [],
   "source": []
  },
  {
   "cell_type": "code",
   "execution_count": null,
   "id": "forty-netherlands",
   "metadata": {
    "scrolled": true
   },
   "outputs": [],
   "source": []
  },
  {
   "cell_type": "code",
   "execution_count": null,
   "id": "08e41ec2",
   "metadata": {},
   "outputs": [],
   "source": []
  },
  {
   "attachments": {},
   "cell_type": "markdown",
   "id": "28ce9872",
   "metadata": {},
   "source": []
  },
  {
   "cell_type": "code",
   "execution_count": null,
   "id": "f4a2af09",
   "metadata": {},
   "outputs": [],
   "source": []
  }
 ],
 "metadata": {
  "kernelspec": {
   "display_name": "Python 3 (ipykernel)",
   "language": "python",
   "name": "python3"
  },
  "language_info": {
   "codemirror_mode": {
    "name": "ipython",
    "version": 3
   },
   "file_extension": ".py",
   "mimetype": "text/x-python",
   "name": "python",
   "nbconvert_exporter": "python",
   "pygments_lexer": "ipython3",
   "version": "3.10.4"
  },
  "toc": {
   "base_numbering": 1,
   "nav_menu": {},
   "number_sections": true,
   "sideBar": true,
   "skip_h1_title": true,
   "title_cell": "Table of Contents",
   "title_sidebar": "Contents",
   "toc_cell": false,
   "toc_position": {},
   "toc_section_display": true,
   "toc_window_display": false
  },
  "vscode": {
   "interpreter": {
    "hash": "01a7be9ec63e704a62cefc5fe7a4756944464ee731be31632bdf42a4cb4688cf"
   }
  }
 },
 "nbformat": 4,
 "nbformat_minor": 5
}
