{
 "cells": [
  {
   "cell_type": "code",
   "execution_count": 1,
   "id": "fbf1adab",
   "metadata": {},
   "outputs": [],
   "source": [
    "import pandas as pd\n",
    "import numpy as np\n",
    "from matplotlib import pyplot as plt\n",
    "\n",
    "# Here's some functions I'll use for my own data cleanup efforts\n",
    "\n",
    "def print_lots_of_info(df):\n",
    "    df.info(show_counts=True)\n",
    "    print(df.shape)\n",
    "    print()\n",
    "    print(df.describe())\n",
    "    print()\n",
    "    print(df.head(5))\n",
    "    print()\n",
    "    print(df.sample(5))\n",
    "    print()\n",
    "\n",
    "def do_each_col(df):\n",
    "    for c in df.columns:\n",
    "        print(c, 'count of unique values =', df[c].nunique())\n",
    "        # count the number of duplicated values in each column\n",
    "        mask = df.duplicated(subset=c, keep=False)\n",
    "        duplicated_values = df.loc[mask, c].unique()\n",
    "        num_duplicates = len(duplicated_values)\n",
    "        if num_duplicates > 0:\n",
    "            print(f\"Column '{c}' has {num_duplicates} duplicated values: {duplicated_values}\")\n",
    "        print()"
   ]
  },
  {
   "attachments": {},
   "cell_type": "markdown",
   "id": "07357848-dc64-4156-9cc3-01ff4365226d",
   "metadata": {},
   "source": [
    "## Find and remove duplicate values (and describe why you make your choices)"
   ]
  },
  {
   "attachments": {},
   "cell_type": "markdown",
   "id": "f179f0a9",
   "metadata": {},
   "source": [
    "### `orders` data frame"
   ]
  },
  {
   "cell_type": "code",
   "execution_count": 2,
   "id": "b99297a5-405a-463d-8535-9adc3da4ad74",
   "metadata": {},
   "outputs": [],
   "source": [
    "# Change Column Names, Check for duplicated orders, and Drop duplicated orders\n",
    "i_df = pd.read_csv('./data/instacart_orders.csv', sep=';')\n",
    "i_df = i_df.rename(columns={\n",
    "    'order_id': 'id',\n",
    "    'order_number': 'user_order_number',\n",
    "    'order_dow': 'day_of_week_numeral'\n",
    "})\n",
    "# print(i_df.duplicated().value_counts(), 'out of', i_df.shape[0])\n",
    "i_df = i_df.drop_duplicates()"
   ]
  },
  {
   "cell_type": "code",
   "execution_count": 3,
   "id": "0d44de5d",
   "metadata": {},
   "outputs": [],
   "source": [
    "# Make a new day_of_week column, for future readability\n",
    "weekday_dict = {\n",
    "    0: 'Sunday',\n",
    "    1: 'Monday',\n",
    "    2: 'Tuesday',\n",
    "    3: 'Wednesday',\n",
    "    4: 'Thursday',\n",
    "    5: 'Friday',\n",
    "    6: 'Saturday'\n",
    "}\n",
    "\n",
    "i_df['day_of_week'] = i_df['day_of_week_numeral'].map(weekday_dict)\n",
    "# print_lots_of_info(i_df)\n",
    "# do_each_col(i_df)\n"
   ]
  },
  {
   "cell_type": "code",
   "execution_count": 4,
   "id": "480563c7",
   "metadata": {},
   "outputs": [],
   "source": [
    "# Change Col data types to save space and make it easier to use the data later\n",
    "\n",
    "i_df['id'] = i_df['id'].astype(str)\n",
    "i_df.set_index('id', inplace=True)\n",
    "i_df['user_order_number'] = i_df['user_order_number'].astype('uint8')\n",
    "# print(np.array_equal(i_df['user_order_number'], i_df['user_order_number'].astype('uint8')))\n",
    "i_df['day_of_week_numeral'] = i_df['day_of_week_numeral'].astype('uint8')\n",
    "# print(np.array_equal(i_df['day_of_week_numeral'], i_df['day_of_week_numeral'].astype('uint8')))\n",
    "# print(np.array_equal(i_df['order_hour_of_day'], i_df['order_hour_of_day'].astype('uint8')))\n",
    "i_df['order_hour_of_day'] = i_df['order_hour_of_day'].astype('uint8')\n",
    "i_df['days_since_prior_order'] = i_df['days_since_prior_order'].fillna(-1)\n",
    "# print(np.array_equal(i_df['days_since_prior_order'], i_df['days_since_prior_order'].astype('int8')))\n",
    "i_df['days_since_prior_order'] = i_df['days_since_prior_order'].astype('int8')\n",
    "# print_lots_of_info(i_df)\n"
   ]
  },
  {
   "attachments": {},
   "cell_type": "markdown",
   "id": "5e8905ae",
   "metadata": {},
   "source": []
  },
  {
   "attachments": {},
   "cell_type": "markdown",
   "id": "45e6bc46",
   "metadata": {},
   "source": [
    "### `products` data frame"
   ]
  },
  {
   "cell_type": "code",
   "execution_count": 5,
   "id": "5f526b5b-8175-46fa-a0fd-441767d50e64",
   "metadata": {},
   "outputs": [],
   "source": [
    "# Check for fully duplicate rows\n",
    "p_df = pd.read_csv('./data/products.csv', sep=';')\n",
    "p_df = p_df.rename(columns={\n",
    "    'product_id': 'id',\n",
    "    'product_name': 'name'\n",
    "})\n",
    "# print(i_df.duplicated().value_counts(), 'out of', i_df.shape[0])"
   ]
  },
  {
   "cell_type": "code",
   "execution_count": 6,
   "id": "88daa4f4",
   "metadata": {},
   "outputs": [],
   "source": [
    "# Set index, fill na values, and Change Col data types to save space and\n",
    "# to make it easier to use the data later\n",
    "p_df['id'] = p_df['id'].astype(str)\n",
    "p_df.set_index('id', inplace=True)\n",
    "p_df['aisle_id'] = p_df['aisle_id'].astype(str)\n",
    "p_df['department_id'] = p_df['department_id'].astype(str)\n",
    "p_df['name'].fillna('__unknown__', inplace=True)\n",
    "p_df['name'] = p_df['name'].str.lower()\n",
    "# print_lots_of_info(p_df)"
   ]
  },
  {
   "cell_type": "code",
   "execution_count": 7,
   "id": "c773f0bf",
   "metadata": {},
   "outputs": [],
   "source": [
    "# Check for just duplicate product names (convert names to lowercase to compare better)\n",
    "# print(i_df.duplicated().value_counts(), 'out of', i_df.shape[0]) \n",
    "# there are no duplicates"
   ]
  },
  {
   "attachments": {},
   "cell_type": "markdown",
   "id": "9da8d293",
   "metadata": {},
   "source": []
  },
  {
   "attachments": {},
   "cell_type": "markdown",
   "id": "60f30db1",
   "metadata": {},
   "source": [
    "### `departments` data frame"
   ]
  },
  {
   "cell_type": "code",
   "execution_count": 8,
   "id": "fb410ad4-0fbf-4b80-bb09-23fdea79afe3",
   "metadata": {},
   "outputs": [],
   "source": [
    "d_df = pd.read_csv('./data/departments.csv', sep=';')\n",
    "d_df = d_df.rename(columns={\n",
    "    'department_id': 'id',\n",
    "    'department': 'name'\n",
    "})\n",
    "\n",
    "# print(d_df.duplicated().value_counts(), 'out of', d_df.shape[0])"
   ]
  },
  {
   "cell_type": "code",
   "execution_count": 9,
   "id": "332b12bb",
   "metadata": {},
   "outputs": [],
   "source": [
    "d_df['id'] = d_df['id'].astype(str)\n",
    "d_df.set_index('id', inplace=True)\n",
    "# print_lots_of_info(d_df)"
   ]
  },
  {
   "attachments": {},
   "cell_type": "markdown",
   "id": "bd30d78e",
   "metadata": {},
   "source": []
  },
  {
   "attachments": {},
   "cell_type": "markdown",
   "id": "889349c1",
   "metadata": {},
   "source": [
    "### `aisles` data frame"
   ]
  },
  {
   "cell_type": "code",
   "execution_count": 10,
   "id": "9da89fb9-4679-40f5-ad0d-c34df753a3f8",
   "metadata": {},
   "outputs": [],
   "source": [
    "a_df = pd.read_csv('./data/aisles.csv', sep=';')\n",
    "a_df = a_df.rename(columns={\n",
    "    'aisle_id': 'id',\n",
    "    'aisle': 'name'\n",
    "})\n",
    "\n",
    "# print(a_df.duplicated().value_counts(), 'out of', a_df.shape[0])"
   ]
  },
  {
   "cell_type": "code",
   "execution_count": 11,
   "id": "da7c2822",
   "metadata": {},
   "outputs": [],
   "source": [
    "a_df['id'] = a_df['id'].astype(str)\n",
    "a_df.set_index('id', inplace=True)\n",
    "\n",
    "# print_lots_of_info(a_df)"
   ]
  },
  {
   "attachments": {},
   "cell_type": "markdown",
   "id": "ac63826f",
   "metadata": {},
   "source": []
  },
  {
   "attachments": {},
   "cell_type": "markdown",
   "id": "274cd06a",
   "metadata": {},
   "source": [
    "### `order_products` data frame"
   ]
  },
  {
   "cell_type": "code",
   "execution_count": 12,
   "id": "52326689-84a8-4b8f-a881-7c68780f62c9",
   "metadata": {},
   "outputs": [],
   "source": [
    "# Check for fullly duplicate rows\n",
    "o_df = pd.read_csv('./data/order_products.csv', sep=';')\n",
    "o_df = o_df.rename(columns={\n",
    "    'add_to_cart_order': 'cart_item_id'\n",
    "})\n",
    "\n",
    "o_df = o_df.dropna(subset=['cart_item_id'])\n",
    "\n",
    "# print(o_df.duplicated().value_counts(), 'out of', o_df.shape[0])"
   ]
  },
  {
   "cell_type": "code",
   "execution_count": 13,
   "id": "7b861391",
   "metadata": {},
   "outputs": [],
   "source": [
    "# Double check for any other tricky duplicates\n",
    "o_df['order_id'] = o_df['order_id'].astype(str)\n",
    "o_df['product_id'] = o_df['product_id'].astype(str)\n",
    "# print(np.array_equal(o_df['cart_item_id'], o_df['cart_item_id'].astype('uint8')))\n",
    "o_df['cart_item_id'] = o_df['cart_item_id'].astype('uint8')\n",
    "# print(np.array_equal(o_df['reordered'], o_df['reordered'].astype('uint8')))\n",
    "o_df['reordered'] = o_df['reordered'].astype('uint8')\n",
    "# print_lots_of_info(o_df)\n",
    "# print(o_df.duplicated().value_counts(), 'out of', o_df.shape[0])"
   ]
  },
  {
   "attachments": {},
   "cell_type": "markdown",
   "id": "0b890492",
   "metadata": {},
   "source": []
  },
  {
   "attachments": {},
   "cell_type": "markdown",
   "id": "turkish-kidney",
   "metadata": {},
   "source": [
    "# [A] Easy (must complete all to pass)"
   ]
  },
  {
   "attachments": {},
   "cell_type": "markdown",
   "id": "short-capability",
   "metadata": {},
   "source": [
    "### [A1] Verify that the `'order_hour_of_day'` and `'day_of_week_numeral'` values in the `instacart_orders` tables are sensible (i.e. `'order_hour_of_day'` ranges from 0 to 23 and `'day_of_week_numeral'` ranges from 0 to 6)"
   ]
  },
  {
   "cell_type": "code",
   "execution_count": 14,
   "id": "growing-fruit",
   "metadata": {},
   "outputs": [
    {
     "name": "stdout",
     "output_type": "stream",
     "text": [
      "2    0\n",
      "5    1\n",
      "6    2\n",
      "4    3\n",
      "3    4\n",
      "1    5\n",
      "0    6\n",
      "dtype: uint8\n"
     ]
    }
   ],
   "source": [
    "print(pd.Series(i_df['day_of_week_numeral'].unique()).sort_values())"
   ]
  },
  {
   "cell_type": "code",
   "execution_count": 15,
   "id": "accessory-malaysia",
   "metadata": {},
   "outputs": [
    {
     "name": "stdout",
     "output_type": "stream",
     "text": [
      "12     0\n",
      "15     1\n",
      "18     2\n",
      "20     3\n",
      "23     4\n",
      "22     5\n",
      "17     6\n",
      "16     7\n",
      "5      8\n",
      "9      9\n",
      "11    10\n",
      "4     11\n",
      "1     12\n",
      "0     13\n",
      "13    14\n",
      "7     15\n",
      "8     16\n",
      "14    17\n",
      "6     18\n",
      "2     19\n",
      "3     20\n",
      "19    21\n",
      "10    22\n",
      "21    23\n",
      "dtype: uint8\n"
     ]
    }
   ],
   "source": [
    "print(pd.Series(i_df['order_hour_of_day'].unique()).sort_values())"
   ]
  },
  {
   "attachments": {},
   "cell_type": "markdown",
   "id": "4015656b",
   "metadata": {},
   "source": [
    "The days of the Week and the Hours of the day look good. No missing values. No nonsense values."
   ]
  },
  {
   "attachments": {},
   "cell_type": "markdown",
   "id": "a6743a70",
   "metadata": {},
   "source": [
    "### [A2] What time of day do people shop for groceries?"
   ]
  },
  {
   "cell_type": "code",
   "execution_count": 16,
   "id": "a36cca27",
   "metadata": {},
   "outputs": [
    {
     "data": {
      "image/png": "[encoded data removed]",
      "text/plain": [
       "<Figure size 640x480 with 1 Axes>"
      ]
     },
     "metadata": {},
     "output_type": "display_data"
    }
   ],
   "source": [
    "# Make an optically pleasing color scheme\n",
    "colors=[\n",
    "    'darkblue','darkblue','darkblue','darkblue','darkblue', # Nighttime 20-04\n",
    "    'lightblue','lightblue','lightblue','lightblue','lightblue','lightblue','lightblue', # Morning 05-11\n",
    "    'cornflowerblue','cornflowerblue','cornflowerblue','cornflowerblue', # Afternoon 12-15\n",
    "    'orange','orange','orange','orange', # Evening 16-19\n",
    "    'darkblue','darkblue','darkblue','darkblue' # Nighttime 20-04\n",
    "]\n",
    "color_labels = {\n",
    "    'nighttime': 'darkblue',\n",
    "    'morning': 'lightblue',\n",
    "    'afternoon': 'cornflowerblue',\n",
    "    'evening': 'orange'\n",
    "}\n",
    "\n",
    "# compute the histogram\n",
    "hist, bins = np.histogram(i_df['order_hour_of_day'], bins=24)\n",
    "\n",
    "# create the plot\n",
    "fig, ax = plt.subplots()\n",
    "for i in range(len(bins) - 1):\n",
    "    time_bin = (bins[i], bins[i+1])\n",
    "    color=colors[i]\n",
    "    ax.bar(i, hist[i], color=color)\n",
    "    ax.text(i, hist[i]+0.005, '{:02d}'.format(i), ha='center', va='bottom') # Set the hourly labels to the top of the bars\n",
    "    \n",
    "# customize the plot\n",
    "ax.set_xticks([]) # Hide the ticks at the bottom, since I already have that information at the top\n",
    "ax.set_xlabel('Hour of Day')\n",
    "ax.set_ylabel('Number of Orders')\n",
    "ax.set_title('Distribution of Order Times')\n",
    "\n",
    "# make a handy legend\n",
    "handles = [plt.Rectangle((0,0),1,1, color=color_labels[label]) for label in color_labels]\n",
    "labels = color_labels.keys()\n",
    "ax.legend(handles, labels)\n",
    "\n",
    "plt.show()\n"
   ]
  },
  {
   "attachments": {},
   "cell_type": "markdown",
   "id": "11270eed",
   "metadata": {},
   "source": [
    "It appears nighttime is not a popular time to order groceries, I'd speculate that that's because a lot of stores are closed during those times and also 'normal' people sleep during those times. Looks like popular times are late Mornings and Late Afternoon."
   ]
  },
  {
   "attachments": {},
   "cell_type": "markdown",
   "id": "documented-command",
   "metadata": {},
   "source": [
    "### [A3] What day of the week do people shop for groceries?"
   ]
  },
  {
   "cell_type": "code",
   "execution_count": 17,
   "id": "chief-digit",
   "metadata": {},
   "outputs": [
    {
     "data": {
      "image/png": "[encoded data removed]",
      "text/plain": [
       "<Figure size 640x480 with 1 Axes>"
      ]
     },
     "metadata": {},
     "output_type": "display_data"
    }
   ],
   "source": [
    "# print(i_df.groupby(['day_of_week_numeral']).size().sort_values(ascending=False))\n",
    "dow = [\"Sun\", \"Mon\", \"Tue\", \"Wed\", \"Thur\", \"Fri\", \"Sat\"]\n",
    "\n",
    "# compute the histogram\n",
    "hist, bins = np.histogram(i_df['day_of_week_numeral'], bins=7)\n",
    "\n",
    "# create the plot\n",
    "fig, ax = plt.subplots()\n",
    "for i in range(len(bins) - 1):\n",
    "    ax.bar(i, hist[i], color='darkblue')\n",
    "    ax.text(i, hist[i]+0.005, dow[i], ha='center', va='bottom') # Set the hourly labels to the top of the bars\n",
    "    \n",
    "# customize the plot\n",
    "ax.set_xticks([]) # Hide the ticks at the bottom, since I already have that information at the top\n",
    "ax.set_xlabel('Day of Week')\n",
    "ax.set_ylabel('Number of Orders')\n",
    "ax.set_title('Distribution of Order Days')\n",
    "\n",
    "plt.show()"
   ]
  },
  {
   "attachments": {},
   "cell_type": "markdown",
   "id": "dominant-lightning",
   "metadata": {},
   "source": [
    "Looks like Sunday and Monday are popular Days. I'd speculate that that's because a lot of people plan their weeks on those days and remember that they need Food that week."
   ]
  },
  {
   "attachments": {},
   "cell_type": "markdown",
   "id": "cutting-concert",
   "metadata": {},
   "source": [
    "### [A4] How long do people wait until placing another order?"
   ]
  },
  {
   "cell_type": "code",
   "execution_count": 36,
   "id": "c231f523",
   "metadata": {},
   "outputs": [
    {
     "data": {
      "image/png": "[encoded data removed]",
      "text/plain": [
       "<Figure size 640x480 with 1 Axes>"
      ]
     },
     "metadata": {},
     "output_type": "display_data"
    }
   ],
   "source": [
    "# compute the histogram\n",
    "hist, bins = np.histogram(i_df['days_since_prior_order'], bins=32)\n",
    "\n",
    "# create the plot\n",
    "fig, ax = plt.subplots()\n",
    "for i in range(len(bins)-1):\n",
    "    i = i - 1\n",
    "    ax.bar(i, hist[i+1], color='darkblue')\n",
    "    \n",
    "# customize the plot\n",
    "ax.set_xticks([0, 5, 10, 15, 20, 25, 30])\n",
    "ax.set_xlabel('Number of Days since last order\\n(-1 means they have yet to place another order)', fontsize=10)\n",
    "ax.set_ylabel('Number of Orders')\n",
    "ax.set_title('Distribution of Days between Orders')\n",
    "\n",
    "plt.show()"
   ]
  },
  {
   "attachments": {},
   "cell_type": "markdown",
   "id": "discrete-vertex",
   "metadata": {},
   "source": [
    "It looks like the most popular interval is listed as 30 days, maybe the data is supposed to represent '30 or more' days or something like that. In second place is 7 days, which makes sense since a lot of people plan their lives on a weekly basis."
   ]
  },
  {
   "attachments": {},
   "cell_type": "markdown",
   "id": "tight-staff",
   "metadata": {},
   "source": [
    "# [B] Medium (must complete all to pass)"
   ]
  },
  {
   "attachments": {},
   "cell_type": "markdown",
   "id": "packed-classic",
   "metadata": {},
   "source": [
    "### [B1] Is there a difference in `'order_hour_of_day'` distributions on Wednesdays and Saturdays? Plot the histograms for both days and describe the differences that you see."
   ]
  },
  {
   "cell_type": "code",
   "execution_count": null,
   "id": "d89b8403",
   "metadata": {},
   "outputs": [],
   "source": []
  },
  {
   "cell_type": "code",
   "execution_count": null,
   "id": "94e54e8a",
   "metadata": {},
   "outputs": [],
   "source": []
  },
  {
   "cell_type": "code",
   "execution_count": null,
   "id": "797c90a8",
   "metadata": {},
   "outputs": [],
   "source": []
  },
  {
   "cell_type": "code",
   "execution_count": null,
   "id": "35bcea30",
   "metadata": {},
   "outputs": [],
   "source": []
  },
  {
   "attachments": {},
   "cell_type": "markdown",
   "id": "charitable-congo",
   "metadata": {},
   "source": []
  },
  {
   "attachments": {},
   "cell_type": "markdown",
   "id": "e3891143",
   "metadata": {},
   "source": [
    "### [B2] What's the distribution for the number of orders per customer?"
   ]
  },
  {
   "cell_type": "code",
   "execution_count": null,
   "id": "d8c26c23",
   "metadata": {},
   "outputs": [],
   "source": []
  },
  {
   "cell_type": "code",
   "execution_count": null,
   "id": "00e69a66",
   "metadata": {},
   "outputs": [],
   "source": []
  },
  {
   "attachments": {},
   "cell_type": "markdown",
   "id": "d2eff7d5",
   "metadata": {},
   "source": []
  },
  {
   "attachments": {},
   "cell_type": "markdown",
   "id": "54a0319c",
   "metadata": {},
   "source": [
    "### [B3] What are the top 20 popular products (display their id and name)?"
   ]
  },
  {
   "cell_type": "code",
   "execution_count": null,
   "id": "exterior-arizona",
   "metadata": {
    "scrolled": true
   },
   "outputs": [],
   "source": []
  },
  {
   "cell_type": "code",
   "execution_count": null,
   "id": "universal-facial",
   "metadata": {},
   "outputs": [],
   "source": []
  },
  {
   "cell_type": "code",
   "execution_count": null,
   "id": "bbcdd20b",
   "metadata": {},
   "outputs": [],
   "source": []
  },
  {
   "attachments": {},
   "cell_type": "markdown",
   "id": "7df00f47",
   "metadata": {},
   "source": []
  },
  {
   "attachments": {},
   "cell_type": "markdown",
   "id": "gross-theme",
   "metadata": {},
   "source": [
    "# [C] Hard (must complete at least two to pass)"
   ]
  },
  {
   "attachments": {},
   "cell_type": "markdown",
   "id": "romantic-deposit",
   "metadata": {},
   "source": [
    "### [C1] How many items do people typically buy in one order? What does the distribution look like?"
   ]
  },
  {
   "cell_type": "code",
   "execution_count": null,
   "id": "virtual-punch",
   "metadata": {},
   "outputs": [],
   "source": []
  },
  {
   "cell_type": "code",
   "execution_count": null,
   "id": "sensitive-breathing",
   "metadata": {},
   "outputs": [],
   "source": []
  },
  {
   "cell_type": "code",
   "execution_count": null,
   "id": "completed-frank",
   "metadata": {},
   "outputs": [],
   "source": []
  },
  {
   "attachments": {},
   "cell_type": "markdown",
   "id": "designed-mortality",
   "metadata": {},
   "source": []
  },
  {
   "attachments": {},
   "cell_type": "markdown",
   "id": "5e6b5537",
   "metadata": {},
   "source": [
    "### [C2] What are the top 20 items that are reordered most frequently (display their names and product IDs)?"
   ]
  },
  {
   "cell_type": "code",
   "execution_count": null,
   "id": "9374e55a",
   "metadata": {},
   "outputs": [],
   "source": []
  },
  {
   "cell_type": "code",
   "execution_count": null,
   "id": "possible-change",
   "metadata": {
    "scrolled": true
   },
   "outputs": [],
   "source": []
  },
  {
   "cell_type": "code",
   "execution_count": null,
   "id": "professional-surfing",
   "metadata": {
    "scrolled": true
   },
   "outputs": [],
   "source": []
  },
  {
   "cell_type": "code",
   "execution_count": null,
   "id": "48dd3658",
   "metadata": {},
   "outputs": [],
   "source": []
  },
  {
   "attachments": {},
   "cell_type": "markdown",
   "id": "80e70c74",
   "metadata": {},
   "source": []
  },
  {
   "attachments": {},
   "cell_type": "markdown",
   "id": "9d312b14",
   "metadata": {},
   "source": [
    "### [C3] For each product, what proportion of its orders are reorders?"
   ]
  },
  {
   "cell_type": "code",
   "execution_count": null,
   "id": "8ae9f4b1",
   "metadata": {},
   "outputs": [],
   "source": []
  },
  {
   "cell_type": "code",
   "execution_count": null,
   "id": "103e7fe1",
   "metadata": {},
   "outputs": [],
   "source": []
  },
  {
   "cell_type": "code",
   "execution_count": null,
   "id": "social-individual",
   "metadata": {},
   "outputs": [],
   "source": []
  },
  {
   "attachments": {},
   "cell_type": "markdown",
   "id": "subject-boxing",
   "metadata": {},
   "source": [
    "### [C4] For each customer, what proportion of their products ordered are reorders?"
   ]
  },
  {
   "cell_type": "code",
   "execution_count": null,
   "id": "medical-couple",
   "metadata": {
    "scrolled": true
   },
   "outputs": [],
   "source": []
  },
  {
   "cell_type": "code",
   "execution_count": null,
   "id": "8892e4b4",
   "metadata": {},
   "outputs": [],
   "source": []
  },
  {
   "attachments": {},
   "cell_type": "markdown",
   "id": "92d35137",
   "metadata": {},
   "source": [
    "### [C5] What are the top 20 items that people put in their carts first? "
   ]
  },
  {
   "cell_type": "code",
   "execution_count": null,
   "id": "0ae57274",
   "metadata": {
    "scrolled": true
   },
   "outputs": [],
   "source": []
  },
  {
   "cell_type": "code",
   "execution_count": null,
   "id": "forty-netherlands",
   "metadata": {
    "scrolled": true
   },
   "outputs": [],
   "source": []
  },
  {
   "cell_type": "code",
   "execution_count": null,
   "id": "08e41ec2",
   "metadata": {},
   "outputs": [],
   "source": []
  },
  {
   "attachments": {},
   "cell_type": "markdown",
   "id": "28ce9872",
   "metadata": {},
   "source": []
  },
  {
   "cell_type": "code",
   "execution_count": null,
   "id": "f4a2af09",
   "metadata": {},
   "outputs": [],
   "source": []
  }
 ],
 "metadata": {
  "kernelspec": {
   "display_name": "Python 3 (ipykernel)",
   "language": "python",
   "name": "python3"
  },
  "language_info": {
   "codemirror_mode": {
    "name": "ipython",
    "version": 3
   },
   "file_extension": ".py",
   "mimetype": "text/x-python",
   "name": "python",
   "nbconvert_exporter": "python",
   "pygments_lexer": "ipython3",
   "version": "3.10.4"
  },
  "toc": {
   "base_numbering": 1,
   "nav_menu": {},
   "number_sections": true,
   "sideBar": true,
   "skip_h1_title": true,
   "title_cell": "Table of Contents",
   "title_sidebar": "Contents",
   "toc_cell": false,
   "toc_position": {},
   "toc_section_display": true,
   "toc_window_display": false
  },
  "vscode": {
   "interpreter": {
    "hash": "01a7be9ec63e704a62cefc5fe7a4756944464ee731be31632bdf42a4cb4688cf"
   }
  }
 },
 "nbformat": 4,
 "nbformat_minor": 5
}
